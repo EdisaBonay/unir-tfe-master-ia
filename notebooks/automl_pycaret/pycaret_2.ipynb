{
 "cells": [
  {
   "cell_type": "code",
   "execution_count": 1,
   "metadata": {},
   "outputs": [
    {
     "data": {
      "text/plain": [
       "'3.3.2'"
      ]
     },
     "execution_count": 1,
     "metadata": {},
     "output_type": "execute_result"
    }
   ],
   "source": [
    "import pycaret\n",
    "pycaret.__version__"
   ]
  },
  {
   "cell_type": "code",
   "execution_count": 6,
   "metadata": {},
   "outputs": [],
   "source": [
    "from pycaret.classification import *\n",
    "import pandas as pd\n",
    "import matplotlib.pyplot as plt\n",
    "from sklearn.preprocessing import StandardScaler, LabelEncoder\n",
    "from sklearn.cluster import KMeans, DBSCAN, SpectralClustering\n",
    "from sklearn.decomposition import PCA\n",
    "import numpy as np\n",
    "import seaborn as sns\n",
    "from sklearn.metrics import silhouette_score, davies_bouldin_score, calinski_harabasz_score\n",
    "import plotly.express as px\n",
    "from sklearn.cluster import AgglomerativeClustering\n",
    "from sklearn.tree import DecisionTreeClassifier\n",
    "import matplotlib.pyplot as plt\n",
    "import seaborn as sns\n",
    "\n",
    "from pycaret.clustering import ClusteringExperiment\n"
   ]
  },
  {
   "cell_type": "code",
   "execution_count": 32,
   "metadata": {},
   "outputs": [],
   "source": [
    "file_path = 'dataset/n_vima.csv'\n",
    "df = pd.read_csv(file_path, quotechar='\"', delimiter=\";\")"
   ]
  },
  {
   "cell_type": "code",
   "execution_count": 33,
   "metadata": {},
   "outputs": [],
   "source": [
    "from pycaret.clustering import *"
   ]
  },
  {
   "cell_type": "code",
   "execution_count": 36,
   "metadata": {},
   "outputs": [
    {
     "data": {
      "text/html": [
       "<style type=\"text/css\">\n",
       "#T_f42e3_row5_col1 {\n",
       "  background-color: lightgreen;\n",
       "}\n",
       "</style>\n",
       "<table id=\"T_f42e3\">\n",
       "  <thead>\n",
       "    <tr>\n",
       "      <th class=\"blank level0\" >&nbsp;</th>\n",
       "      <th id=\"T_f42e3_level0_col0\" class=\"col_heading level0 col0\" >Description</th>\n",
       "      <th id=\"T_f42e3_level0_col1\" class=\"col_heading level0 col1\" >Value</th>\n",
       "    </tr>\n",
       "  </thead>\n",
       "  <tbody>\n",
       "    <tr>\n",
       "      <th id=\"T_f42e3_level0_row0\" class=\"row_heading level0 row0\" >0</th>\n",
       "      <td id=\"T_f42e3_row0_col0\" class=\"data row0 col0\" >Session id</td>\n",
       "      <td id=\"T_f42e3_row0_col1\" class=\"data row0 col1\" >123</td>\n",
       "    </tr>\n",
       "    <tr>\n",
       "      <th id=\"T_f42e3_level0_row1\" class=\"row_heading level0 row1\" >1</th>\n",
       "      <td id=\"T_f42e3_row1_col0\" class=\"data row1 col0\" >Original data shape</td>\n",
       "      <td id=\"T_f42e3_row1_col1\" class=\"data row1 col1\" >(1031, 11)</td>\n",
       "    </tr>\n",
       "    <tr>\n",
       "      <th id=\"T_f42e3_level0_row2\" class=\"row_heading level0 row2\" >2</th>\n",
       "      <td id=\"T_f42e3_row2_col0\" class=\"data row2 col0\" >Transformed data shape</td>\n",
       "      <td id=\"T_f42e3_row2_col1\" class=\"data row2 col1\" >(1031, 3617)</td>\n",
       "    </tr>\n",
       "    <tr>\n",
       "      <th id=\"T_f42e3_level0_row3\" class=\"row_heading level0 row3\" >3</th>\n",
       "      <td id=\"T_f42e3_row3_col0\" class=\"data row3 col0\" >Numeric features</td>\n",
       "      <td id=\"T_f42e3_row3_col1\" class=\"data row3 col1\" >3</td>\n",
       "    </tr>\n",
       "    <tr>\n",
       "      <th id=\"T_f42e3_level0_row4\" class=\"row_heading level0 row4\" >4</th>\n",
       "      <td id=\"T_f42e3_row4_col0\" class=\"data row4 col0\" >Categorical features</td>\n",
       "      <td id=\"T_f42e3_row4_col1\" class=\"data row4 col1\" >8</td>\n",
       "    </tr>\n",
       "    <tr>\n",
       "      <th id=\"T_f42e3_level0_row5\" class=\"row_heading level0 row5\" >5</th>\n",
       "      <td id=\"T_f42e3_row5_col0\" class=\"data row5 col0\" >Preprocess</td>\n",
       "      <td id=\"T_f42e3_row5_col1\" class=\"data row5 col1\" >True</td>\n",
       "    </tr>\n",
       "    <tr>\n",
       "      <th id=\"T_f42e3_level0_row6\" class=\"row_heading level0 row6\" >6</th>\n",
       "      <td id=\"T_f42e3_row6_col0\" class=\"data row6 col0\" >Imputation type</td>\n",
       "      <td id=\"T_f42e3_row6_col1\" class=\"data row6 col1\" >simple</td>\n",
       "    </tr>\n",
       "    <tr>\n",
       "      <th id=\"T_f42e3_level0_row7\" class=\"row_heading level0 row7\" >7</th>\n",
       "      <td id=\"T_f42e3_row7_col0\" class=\"data row7 col0\" >Numeric imputation</td>\n",
       "      <td id=\"T_f42e3_row7_col1\" class=\"data row7 col1\" >mean</td>\n",
       "    </tr>\n",
       "    <tr>\n",
       "      <th id=\"T_f42e3_level0_row8\" class=\"row_heading level0 row8\" >8</th>\n",
       "      <td id=\"T_f42e3_row8_col0\" class=\"data row8 col0\" >Categorical imputation</td>\n",
       "      <td id=\"T_f42e3_row8_col1\" class=\"data row8 col1\" >mode</td>\n",
       "    </tr>\n",
       "    <tr>\n",
       "      <th id=\"T_f42e3_level0_row9\" class=\"row_heading level0 row9\" >9</th>\n",
       "      <td id=\"T_f42e3_row9_col0\" class=\"data row9 col0\" >Maximum one-hot encoding</td>\n",
       "      <td id=\"T_f42e3_row9_col1\" class=\"data row9 col1\" >-1</td>\n",
       "    </tr>\n",
       "    <tr>\n",
       "      <th id=\"T_f42e3_level0_row10\" class=\"row_heading level0 row10\" >10</th>\n",
       "      <td id=\"T_f42e3_row10_col0\" class=\"data row10 col0\" >Encoding method</td>\n",
       "      <td id=\"T_f42e3_row10_col1\" class=\"data row10 col1\" >None</td>\n",
       "    </tr>\n",
       "    <tr>\n",
       "      <th id=\"T_f42e3_level0_row11\" class=\"row_heading level0 row11\" >11</th>\n",
       "      <td id=\"T_f42e3_row11_col0\" class=\"data row11 col0\" >CPU Jobs</td>\n",
       "      <td id=\"T_f42e3_row11_col1\" class=\"data row11 col1\" >-1</td>\n",
       "    </tr>\n",
       "    <tr>\n",
       "      <th id=\"T_f42e3_level0_row12\" class=\"row_heading level0 row12\" >12</th>\n",
       "      <td id=\"T_f42e3_row12_col0\" class=\"data row12 col0\" >Use GPU</td>\n",
       "      <td id=\"T_f42e3_row12_col1\" class=\"data row12 col1\" >False</td>\n",
       "    </tr>\n",
       "    <tr>\n",
       "      <th id=\"T_f42e3_level0_row13\" class=\"row_heading level0 row13\" >13</th>\n",
       "      <td id=\"T_f42e3_row13_col0\" class=\"data row13 col0\" >Log Experiment</td>\n",
       "      <td id=\"T_f42e3_row13_col1\" class=\"data row13 col1\" >False</td>\n",
       "    </tr>\n",
       "    <tr>\n",
       "      <th id=\"T_f42e3_level0_row14\" class=\"row_heading level0 row14\" >14</th>\n",
       "      <td id=\"T_f42e3_row14_col0\" class=\"data row14 col0\" >Experiment Name</td>\n",
       "      <td id=\"T_f42e3_row14_col1\" class=\"data row14 col1\" >cluster-default-name</td>\n",
       "    </tr>\n",
       "    <tr>\n",
       "      <th id=\"T_f42e3_level0_row15\" class=\"row_heading level0 row15\" >15</th>\n",
       "      <td id=\"T_f42e3_row15_col0\" class=\"data row15 col0\" >USI</td>\n",
       "      <td id=\"T_f42e3_row15_col1\" class=\"data row15 col1\" >0e61</td>\n",
       "    </tr>\n",
       "  </tbody>\n",
       "</table>\n"
      ],
      "text/plain": [
       "<pandas.io.formats.style.Styler at 0x3365764d0>"
      ]
     },
     "metadata": {},
     "output_type": "display_data"
    }
   ],
   "source": [
    "exp_clu101 = setup(df,  session_id = 123)"
   ]
  },
  {
   "cell_type": "code",
   "execution_count": null,
   "metadata": {},
   "outputs": [],
   "source": [
    "\n",
    "df['STOCK_ACTUAL'] = df['STOCK_ACTUAL'].str.replace(',', '.').astype(float)\n",
    "df['TOTAL_CANTIDAD_MOVS'] = df['TOTAL_CANTIDAD_MOVS'].str.replace(',', '.').astype(float)\n",
    "df['PMP'] = df['PMP'].str.replace(',', '.').astype(float)\n",
    "df['TOTAL_IMPORTE_MOVS'] = df['TOTAL_IMPORTE_MOVS'].str.replace(',', '.').astype(float)\n",
    "label_encoder = LabelEncoder()\n",
    "df['ARTICULO'] = label_encoder.fit_transform(df['ARTICULO'])\n",
    "df['TIPO_MATERIAL'] = label_encoder.fit_transform(df['TIPO_MATERIAL'])\n",
    "df['CODIGO_FAMILIA'] = label_encoder.fit_transform(df['CODIGO_FAMILIA'])\n",
    "df.drop(columns=['EMPRESA','PESO_NETO','MULTIPRESENTACION','ARTICULO','CODIGO_FAMILIA'], inplace=True)\n",
    "columns_to_standardize = ['TIPO_MATERIAL','PMP','STOCK_ACTUAL','TOTAL_CANTIDAD_MOVS','TOTAL_IMPORTE_MOVS','TOTAL_MOVS']\n",
    "scaler = StandardScaler()\n",
    "df[columns_to_standardize] = scaler.fit_transform(df[columns_to_standardize])\n",
    "\n",
    "# IQR para detectar y eliminar outliers\n",
    "columns = columns_to_standardize\n",
    "\n"
   ]
  },
  {
   "cell_type": "code",
   "execution_count": 37,
   "metadata": {},
   "outputs": [
    {
     "data": {
      "text/html": [],
      "text/plain": [
       "<IPython.core.display.HTML object>"
      ]
     },
     "metadata": {},
     "output_type": "display_data"
    },
    {
     "data": {
      "text/html": [
       "<style type=\"text/css\">\n",
       "</style>\n",
       "<table id=\"T_420d6\">\n",
       "  <thead>\n",
       "    <tr>\n",
       "      <th class=\"blank level0\" >&nbsp;</th>\n",
       "      <th id=\"T_420d6_level0_col0\" class=\"col_heading level0 col0\" >Silhouette</th>\n",
       "      <th id=\"T_420d6_level0_col1\" class=\"col_heading level0 col1\" >Calinski-Harabasz</th>\n",
       "      <th id=\"T_420d6_level0_col2\" class=\"col_heading level0 col2\" >Davies-Bouldin</th>\n",
       "      <th id=\"T_420d6_level0_col3\" class=\"col_heading level0 col3\" >Homogeneity</th>\n",
       "      <th id=\"T_420d6_level0_col4\" class=\"col_heading level0 col4\" >Rand Index</th>\n",
       "      <th id=\"T_420d6_level0_col5\" class=\"col_heading level0 col5\" >Completeness</th>\n",
       "    </tr>\n",
       "  </thead>\n",
       "  <tbody>\n",
       "    <tr>\n",
       "      <th id=\"T_420d6_level0_row0\" class=\"row_heading level0 row0\" >0</th>\n",
       "      <td id=\"T_420d6_row0_col0\" class=\"data row0 col0\" >0.8233</td>\n",
       "      <td id=\"T_420d6_row0_col1\" class=\"data row0 col1\" >2883.6310</td>\n",
       "      <td id=\"T_420d6_row0_col2\" class=\"data row0 col2\" >0.4917</td>\n",
       "      <td id=\"T_420d6_row0_col3\" class=\"data row0 col3\" >0</td>\n",
       "      <td id=\"T_420d6_row0_col4\" class=\"data row0 col4\" >0</td>\n",
       "      <td id=\"T_420d6_row0_col5\" class=\"data row0 col5\" >0</td>\n",
       "    </tr>\n",
       "  </tbody>\n",
       "</table>\n"
      ],
      "text/plain": [
       "<pandas.io.formats.style.Styler at 0x335a50400>"
      ]
     },
     "metadata": {},
     "output_type": "display_data"
    },
    {
     "data": {
      "text/html": [],
      "text/plain": [
       "<IPython.core.display.HTML object>"
      ]
     },
     "metadata": {},
     "output_type": "display_data"
    }
   ],
   "source": [
    "kmeans = create_model('kmeans')"
   ]
  },
  {
   "cell_type": "code",
   "execution_count": null,
   "metadata": {},
   "outputs": [],
   "source": []
  },
  {
   "cell_type": "code",
   "execution_count": null,
   "metadata": {},
   "outputs": [],
   "source": [
    "\n",
    "# crear experimento de clustering\n",
    "# compare_models()\n",
    "\n",
    "\n",
    "# Crear un modelo de clustering (por ejemplo, K-Means)\n",
    "kmeans = create_model('kmeans', num_clusters=3)\n",
    "\n",
    "# Asignar clusters al DataFrame\n",
    "df_with_clusters = assign_model(kmeans)\n",
    "\n",
    "# Imprimir los datos con los clusters asignados\n",
    "print(df_with_clusters.head())"
   ]
  },
  {
   "cell_type": "code",
   "execution_count": 38,
   "metadata": {},
   "outputs": [
    {
     "name": "stdout",
     "output_type": "stream",
     "text": [
      "{'Silhouette': 0.8233, 'Calinski-Harabasz': 2883.631, 'Davies-Bouldin': 0.4917, 'Homogeneity': 0.0, 'Rand Index': 0.0, 'Completeness': 0.0}\n"
     ]
    }
   ],
   "source": [
    "metrics_df = pull()\n",
    "metrics = metrics_df.iloc[0].to_dict()\n",
    "print(metrics)"
   ]
  },
  {
   "cell_type": "code",
   "execution_count": null,
   "metadata": {},
   "outputs": [],
   "source": [
    "kmeans_cluster = assign_model(kmeans)\n",
    "kmeans_cluster"
   ]
  },
  {
   "cell_type": "code",
   "execution_count": null,
   "metadata": {},
   "outputs": [],
   "source": [
    "plot_model(kmeans, plot = 'cluster')"
   ]
  },
  {
   "cell_type": "code",
   "execution_count": null,
   "metadata": {},
   "outputs": [],
   "source": [
    "plot_model(kmeans, plot = 'elbow')"
   ]
  },
  {
   "cell_type": "code",
   "execution_count": null,
   "metadata": {},
   "outputs": [],
   "source": [
    "plot_model(kmeans, plot = 'silhouette')"
   ]
  },
  {
   "cell_type": "code",
   "execution_count": null,
   "metadata": {},
   "outputs": [],
   "source": [
    "\n",
    "# Preparar los datos para el análisis\n",
    "X = df_with_clusters.drop(columns=['Cluster'])  # Características\n",
    "y = df_with_clusters['Cluster']  # Clusters asignados\n",
    "\n",
    "# Entrenar un clasificador de árboles de decisión\n",
    "clf = DecisionTreeClassifier(random_state=123)\n",
    "clf.fit(X, y)\n",
    "\n",
    "# Obtener la importancia de las características\n",
    "feature_importances = clf.feature_importances_\n",
    "features = X.columns\n",
    "\n",
    "# Crear un DataFrame con las importancias\n",
    "importances_df = pd.DataFrame({'Feature': features, 'Importance': feature_importances})\n",
    "importances_df = importances_df.sort_values(by='Importance', ascending=False)\n",
    "\n",
    "# Visualizar las importancias de las características\n",
    "plt.figure(figsize=(10, 8))\n",
    "sns.barplot(x='Importance', y='Feature', data=importances_df)\n",
    "plt.title('Importancia de las Características')\n",
    "plt.show()"
   ]
  },
  {
   "cell_type": "code",
   "execution_count": null,
   "metadata": {},
   "outputs": [],
   "source": [
    "evaluate_model(kmeans)"
   ]
  },
  {
   "cell_type": "code",
   "execution_count": 39,
   "metadata": {},
   "outputs": [
    {
     "data": {
      "text/html": [
       "<div>\n",
       "<style scoped>\n",
       "    .dataframe tbody tr th:only-of-type {\n",
       "        vertical-align: middle;\n",
       "    }\n",
       "\n",
       "    .dataframe tbody tr th {\n",
       "        vertical-align: top;\n",
       "    }\n",
       "\n",
       "    .dataframe thead th {\n",
       "        text-align: right;\n",
       "    }\n",
       "</style>\n",
       "<table border=\"1\" class=\"dataframe\">\n",
       "  <thead>\n",
       "    <tr style=\"text-align: right;\">\n",
       "      <th></th>\n",
       "      <th>EMPRESA_GVD</th>\n",
       "      <th>ARTICULO_S201</th>\n",
       "      <th>ARTICULO_S620</th>\n",
       "      <th>ARTICULO_00311004056</th>\n",
       "      <th>ARTICULO_00311004058</th>\n",
       "      <th>ARTICULO_00311004077</th>\n",
       "      <th>ARTICULO_00311004078</th>\n",
       "      <th>ARTICULO_00311004151</th>\n",
       "      <th>ARTICULO_00311004417</th>\n",
       "      <th>ARTICULO_00311005828</th>\n",
       "      <th>...</th>\n",
       "      <th>TOTAL_IMPORTE_MOVS_55470,96</th>\n",
       "      <th>TOTAL_IMPORTE_MOVS_100519,12</th>\n",
       "      <th>TOTAL_IMPORTE_MOVS_144500,56</th>\n",
       "      <th>TOTAL_IMPORTE_MOVS_3131400</th>\n",
       "      <th>TOTAL_IMPORTE_MOVS_9396,222</th>\n",
       "      <th>TOTAL_IMPORTE_MOVS_23160,2976</th>\n",
       "      <th>TOTAL_IMPORTE_MOVS_3444,408</th>\n",
       "      <th>TOTAL_IMPORTE_MOVS_38935,512</th>\n",
       "      <th>TOTAL_MOVS</th>\n",
       "      <th>Cluster</th>\n",
       "    </tr>\n",
       "  </thead>\n",
       "  <tbody>\n",
       "    <tr>\n",
       "      <th>0</th>\n",
       "      <td>1.0</td>\n",
       "      <td>1.0</td>\n",
       "      <td>0.0</td>\n",
       "      <td>0.0</td>\n",
       "      <td>0.0</td>\n",
       "      <td>0.0</td>\n",
       "      <td>0.0</td>\n",
       "      <td>0.0</td>\n",
       "      <td>0.0</td>\n",
       "      <td>0.0</td>\n",
       "      <td>...</td>\n",
       "      <td>0.0</td>\n",
       "      <td>0.0</td>\n",
       "      <td>0.0</td>\n",
       "      <td>0.0</td>\n",
       "      <td>0.0</td>\n",
       "      <td>0.0</td>\n",
       "      <td>0.0</td>\n",
       "      <td>0.0</td>\n",
       "      <td>2.0</td>\n",
       "      <td>Cluster 2</td>\n",
       "    </tr>\n",
       "    <tr>\n",
       "      <th>1</th>\n",
       "      <td>1.0</td>\n",
       "      <td>0.0</td>\n",
       "      <td>1.0</td>\n",
       "      <td>0.0</td>\n",
       "      <td>0.0</td>\n",
       "      <td>0.0</td>\n",
       "      <td>0.0</td>\n",
       "      <td>0.0</td>\n",
       "      <td>0.0</td>\n",
       "      <td>0.0</td>\n",
       "      <td>...</td>\n",
       "      <td>0.0</td>\n",
       "      <td>0.0</td>\n",
       "      <td>0.0</td>\n",
       "      <td>0.0</td>\n",
       "      <td>0.0</td>\n",
       "      <td>0.0</td>\n",
       "      <td>0.0</td>\n",
       "      <td>0.0</td>\n",
       "      <td>4834.0</td>\n",
       "      <td>Cluster 3</td>\n",
       "    </tr>\n",
       "    <tr>\n",
       "      <th>2</th>\n",
       "      <td>1.0</td>\n",
       "      <td>0.0</td>\n",
       "      <td>0.0</td>\n",
       "      <td>1.0</td>\n",
       "      <td>0.0</td>\n",
       "      <td>0.0</td>\n",
       "      <td>0.0</td>\n",
       "      <td>0.0</td>\n",
       "      <td>0.0</td>\n",
       "      <td>0.0</td>\n",
       "      <td>...</td>\n",
       "      <td>0.0</td>\n",
       "      <td>0.0</td>\n",
       "      <td>0.0</td>\n",
       "      <td>0.0</td>\n",
       "      <td>0.0</td>\n",
       "      <td>0.0</td>\n",
       "      <td>0.0</td>\n",
       "      <td>0.0</td>\n",
       "      <td>18.0</td>\n",
       "      <td>Cluster 2</td>\n",
       "    </tr>\n",
       "    <tr>\n",
       "      <th>3</th>\n",
       "      <td>1.0</td>\n",
       "      <td>0.0</td>\n",
       "      <td>0.0</td>\n",
       "      <td>0.0</td>\n",
       "      <td>1.0</td>\n",
       "      <td>0.0</td>\n",
       "      <td>0.0</td>\n",
       "      <td>0.0</td>\n",
       "      <td>0.0</td>\n",
       "      <td>0.0</td>\n",
       "      <td>...</td>\n",
       "      <td>0.0</td>\n",
       "      <td>0.0</td>\n",
       "      <td>0.0</td>\n",
       "      <td>0.0</td>\n",
       "      <td>0.0</td>\n",
       "      <td>0.0</td>\n",
       "      <td>0.0</td>\n",
       "      <td>0.0</td>\n",
       "      <td>2.0</td>\n",
       "      <td>Cluster 2</td>\n",
       "    </tr>\n",
       "    <tr>\n",
       "      <th>4</th>\n",
       "      <td>1.0</td>\n",
       "      <td>0.0</td>\n",
       "      <td>0.0</td>\n",
       "      <td>0.0</td>\n",
       "      <td>0.0</td>\n",
       "      <td>1.0</td>\n",
       "      <td>0.0</td>\n",
       "      <td>0.0</td>\n",
       "      <td>0.0</td>\n",
       "      <td>0.0</td>\n",
       "      <td>...</td>\n",
       "      <td>0.0</td>\n",
       "      <td>0.0</td>\n",
       "      <td>0.0</td>\n",
       "      <td>0.0</td>\n",
       "      <td>0.0</td>\n",
       "      <td>0.0</td>\n",
       "      <td>0.0</td>\n",
       "      <td>0.0</td>\n",
       "      <td>2.0</td>\n",
       "      <td>Cluster 2</td>\n",
       "    </tr>\n",
       "  </tbody>\n",
       "</table>\n",
       "<p>5 rows × 3618 columns</p>\n",
       "</div>"
      ],
      "text/plain": [
       "   EMPRESA_GVD  ARTICULO_S201  ARTICULO_S620  ARTICULO_00311004056  \\\n",
       "0          1.0            1.0            0.0                   0.0   \n",
       "1          1.0            0.0            1.0                   0.0   \n",
       "2          1.0            0.0            0.0                   1.0   \n",
       "3          1.0            0.0            0.0                   0.0   \n",
       "4          1.0            0.0            0.0                   0.0   \n",
       "\n",
       "   ARTICULO_00311004058  ARTICULO_00311004077  ARTICULO_00311004078  \\\n",
       "0                   0.0                   0.0                   0.0   \n",
       "1                   0.0                   0.0                   0.0   \n",
       "2                   0.0                   0.0                   0.0   \n",
       "3                   1.0                   0.0                   0.0   \n",
       "4                   0.0                   1.0                   0.0   \n",
       "\n",
       "   ARTICULO_00311004151  ARTICULO_00311004417  ARTICULO_00311005828  ...  \\\n",
       "0                   0.0                   0.0                   0.0  ...   \n",
       "1                   0.0                   0.0                   0.0  ...   \n",
       "2                   0.0                   0.0                   0.0  ...   \n",
       "3                   0.0                   0.0                   0.0  ...   \n",
       "4                   0.0                   0.0                   0.0  ...   \n",
       "\n",
       "   TOTAL_IMPORTE_MOVS_55470,96  TOTAL_IMPORTE_MOVS_100519,12  \\\n",
       "0                          0.0                           0.0   \n",
       "1                          0.0                           0.0   \n",
       "2                          0.0                           0.0   \n",
       "3                          0.0                           0.0   \n",
       "4                          0.0                           0.0   \n",
       "\n",
       "   TOTAL_IMPORTE_MOVS_144500,56  TOTAL_IMPORTE_MOVS_3131400  \\\n",
       "0                           0.0                         0.0   \n",
       "1                           0.0                         0.0   \n",
       "2                           0.0                         0.0   \n",
       "3                           0.0                         0.0   \n",
       "4                           0.0                         0.0   \n",
       "\n",
       "   TOTAL_IMPORTE_MOVS_9396,222  TOTAL_IMPORTE_MOVS_23160,2976  \\\n",
       "0                          0.0                            0.0   \n",
       "1                          0.0                            0.0   \n",
       "2                          0.0                            0.0   \n",
       "3                          0.0                            0.0   \n",
       "4                          0.0                            0.0   \n",
       "\n",
       "   TOTAL_IMPORTE_MOVS_3444,408  TOTAL_IMPORTE_MOVS_38935,512  TOTAL_MOVS  \\\n",
       "0                          0.0                           0.0         2.0   \n",
       "1                          0.0                           0.0      4834.0   \n",
       "2                          0.0                           0.0        18.0   \n",
       "3                          0.0                           0.0         2.0   \n",
       "4                          0.0                           0.0         2.0   \n",
       "\n",
       "     Cluster  \n",
       "0  Cluster 2  \n",
       "1  Cluster 3  \n",
       "2  Cluster 2  \n",
       "3  Cluster 2  \n",
       "4  Cluster 2  \n",
       "\n",
       "[5 rows x 3618 columns]"
      ]
     },
     "execution_count": 39,
     "metadata": {},
     "output_type": "execute_result"
    }
   ],
   "source": [
    "unseen_predictions = predict_model(kmeans, data=df)\n",
    "unseen_predictions.head()"
   ]
  },
  {
   "cell_type": "code",
   "execution_count": 43,
   "metadata": {},
   "outputs": [
    {
     "name": "stdout",
     "output_type": "stream",
     "text": [
      "Cluster 2\n"
     ]
    }
   ],
   "source": [
    "#obtener el valor de la columna Cluster del primer registro\n",
    "cluster_value = unseen_predictions.iloc[0]['Cluster']\n",
    "print(cluster_value)"
   ]
  }
 ],
 "metadata": {
  "kernelspec": {
   "display_name": "gal_lua",
   "language": "python",
   "name": "python3"
  },
  "language_info": {
   "codemirror_mode": {
    "name": "ipython",
    "version": 3
   },
   "file_extension": ".py",
   "mimetype": "text/x-python",
   "name": "python",
   "nbconvert_exporter": "python",
   "pygments_lexer": "ipython3",
   "version": "3.10.0"
  }
 },
 "nbformat": 4,
 "nbformat_minor": 2
}
